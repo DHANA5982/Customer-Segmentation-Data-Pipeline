{
 "cells": [
  {
   "cell_type": "markdown",
   "id": "6c7a7115",
   "metadata": {},
   "source": [
    "# Customer Segmentation Data Pipeline"
   ]
  },
  {
   "cell_type": "markdown",
   "id": "9a46c3ab",
   "metadata": {},
   "source": [
    "## 1.Data Ingestion"
   ]
  },
  {
   "cell_type": "markdown",
   "id": "70ed8215",
   "metadata": {},
   "source": [
    "##### Read CSV\n",
    "\n",
    "#### Validate schema (column names, types)\n",
    "\n",
    "#### Log basic stats"
   ]
  },
  {
   "cell_type": "code",
   "execution_count": 26,
   "id": "3ce25095",
   "metadata": {},
   "outputs": [],
   "source": [
    "import numpy as np\n",
    "import pandas as pd\n",
    "import os\n",
    "import sqlite3\n",
    "# from sqlalchemy import create_engine, text"
   ]
  },
  {
   "cell_type": "code",
   "execution_count": 27,
   "id": "71c8491f",
   "metadata": {},
   "outputs": [],
   "source": [
    "raw_df = pd.read_csv('D:/GitHub/Customer Segmentation Data Pipeline/data//raw/Customer_churn4.csv')"
   ]
  },
  {
   "cell_type": "code",
   "execution_count": 28,
   "id": "c5b44eb1",
   "metadata": {},
   "outputs": [
    {
     "data": {
      "text/html": [
       "<div>\n",
       "<style scoped>\n",
       "    .dataframe tbody tr th:only-of-type {\n",
       "        vertical-align: middle;\n",
       "    }\n",
       "\n",
       "    .dataframe tbody tr th {\n",
       "        vertical-align: top;\n",
       "    }\n",
       "\n",
       "    .dataframe thead th {\n",
       "        text-align: right;\n",
       "    }\n",
       "</style>\n",
       "<table border=\"1\" class=\"dataframe\">\n",
       "  <thead>\n",
       "    <tr style=\"text-align: right;\">\n",
       "      <th></th>\n",
       "      <th>customerID</th>\n",
       "      <th>gender</th>\n",
       "      <th>SeniorCitizen</th>\n",
       "      <th>Partner</th>\n",
       "      <th>Dependents</th>\n",
       "      <th>tenure</th>\n",
       "      <th>PhoneService</th>\n",
       "      <th>MultipleLines</th>\n",
       "      <th>InternetService</th>\n",
       "      <th>OnlineSecurity</th>\n",
       "      <th>...</th>\n",
       "      <th>DeviceProtection</th>\n",
       "      <th>TechSupport</th>\n",
       "      <th>StreamingTV</th>\n",
       "      <th>StreamingMovies</th>\n",
       "      <th>Contract</th>\n",
       "      <th>PaperlessBilling</th>\n",
       "      <th>PaymentMethod</th>\n",
       "      <th>MonthlyCharges</th>\n",
       "      <th>TotalCharges</th>\n",
       "      <th>Churn</th>\n",
       "    </tr>\n",
       "  </thead>\n",
       "  <tbody>\n",
       "    <tr>\n",
       "      <th>0</th>\n",
       "      <td>7590-VHVEG</td>\n",
       "      <td>Female</td>\n",
       "      <td>0</td>\n",
       "      <td>Yes</td>\n",
       "      <td>No</td>\n",
       "      <td>1</td>\n",
       "      <td>No</td>\n",
       "      <td>No phone service</td>\n",
       "      <td>DSL</td>\n",
       "      <td>No</td>\n",
       "      <td>...</td>\n",
       "      <td>No</td>\n",
       "      <td>No</td>\n",
       "      <td>No</td>\n",
       "      <td>No</td>\n",
       "      <td>Month-to-month</td>\n",
       "      <td>Yes</td>\n",
       "      <td>Electronic check</td>\n",
       "      <td>29.85</td>\n",
       "      <td>29.85</td>\n",
       "      <td>No</td>\n",
       "    </tr>\n",
       "    <tr>\n",
       "      <th>1</th>\n",
       "      <td>5575-GNVDE</td>\n",
       "      <td>Male</td>\n",
       "      <td>0</td>\n",
       "      <td>No</td>\n",
       "      <td>No</td>\n",
       "      <td>34</td>\n",
       "      <td>Yes</td>\n",
       "      <td>No</td>\n",
       "      <td>DSL</td>\n",
       "      <td>Yes</td>\n",
       "      <td>...</td>\n",
       "      <td>Yes</td>\n",
       "      <td>No</td>\n",
       "      <td>No</td>\n",
       "      <td>No</td>\n",
       "      <td>One year</td>\n",
       "      <td>No</td>\n",
       "      <td>Mailed check</td>\n",
       "      <td>56.95</td>\n",
       "      <td>1889.5</td>\n",
       "      <td>No</td>\n",
       "    </tr>\n",
       "    <tr>\n",
       "      <th>2</th>\n",
       "      <td>3668-QPYBK</td>\n",
       "      <td>Male</td>\n",
       "      <td>0</td>\n",
       "      <td>No</td>\n",
       "      <td>No</td>\n",
       "      <td>2</td>\n",
       "      <td>Yes</td>\n",
       "      <td>No</td>\n",
       "      <td>DSL</td>\n",
       "      <td>Yes</td>\n",
       "      <td>...</td>\n",
       "      <td>No</td>\n",
       "      <td>No</td>\n",
       "      <td>No</td>\n",
       "      <td>No</td>\n",
       "      <td>Month-to-month</td>\n",
       "      <td>Yes</td>\n",
       "      <td>Mailed check</td>\n",
       "      <td>53.85</td>\n",
       "      <td>108.15</td>\n",
       "      <td>Yes</td>\n",
       "    </tr>\n",
       "    <tr>\n",
       "      <th>3</th>\n",
       "      <td>7795-CFOCW</td>\n",
       "      <td>Male</td>\n",
       "      <td>0</td>\n",
       "      <td>No</td>\n",
       "      <td>No</td>\n",
       "      <td>45</td>\n",
       "      <td>No</td>\n",
       "      <td>No phone service</td>\n",
       "      <td>DSL</td>\n",
       "      <td>Yes</td>\n",
       "      <td>...</td>\n",
       "      <td>Yes</td>\n",
       "      <td>Yes</td>\n",
       "      <td>No</td>\n",
       "      <td>No</td>\n",
       "      <td>One year</td>\n",
       "      <td>No</td>\n",
       "      <td>Bank transfer (automatic)</td>\n",
       "      <td>42.30</td>\n",
       "      <td>1840.75</td>\n",
       "      <td>No</td>\n",
       "    </tr>\n",
       "    <tr>\n",
       "      <th>4</th>\n",
       "      <td>9237-HQITU</td>\n",
       "      <td>Female</td>\n",
       "      <td>0</td>\n",
       "      <td>No</td>\n",
       "      <td>No</td>\n",
       "      <td>2</td>\n",
       "      <td>Yes</td>\n",
       "      <td>No</td>\n",
       "      <td>Fiber optic</td>\n",
       "      <td>No</td>\n",
       "      <td>...</td>\n",
       "      <td>No</td>\n",
       "      <td>No</td>\n",
       "      <td>No</td>\n",
       "      <td>No</td>\n",
       "      <td>Month-to-month</td>\n",
       "      <td>Yes</td>\n",
       "      <td>Electronic check</td>\n",
       "      <td>70.70</td>\n",
       "      <td>151.65</td>\n",
       "      <td>Yes</td>\n",
       "    </tr>\n",
       "  </tbody>\n",
       "</table>\n",
       "<p>5 rows × 21 columns</p>\n",
       "</div>"
      ],
      "text/plain": [
       "   customerID  gender  SeniorCitizen Partner Dependents  tenure PhoneService  \\\n",
       "0  7590-VHVEG  Female              0     Yes         No       1           No   \n",
       "1  5575-GNVDE    Male              0      No         No      34          Yes   \n",
       "2  3668-QPYBK    Male              0      No         No       2          Yes   \n",
       "3  7795-CFOCW    Male              0      No         No      45           No   \n",
       "4  9237-HQITU  Female              0      No         No       2          Yes   \n",
       "\n",
       "      MultipleLines InternetService OnlineSecurity  ... DeviceProtection  \\\n",
       "0  No phone service             DSL             No  ...               No   \n",
       "1                No             DSL            Yes  ...              Yes   \n",
       "2                No             DSL            Yes  ...               No   \n",
       "3  No phone service             DSL            Yes  ...              Yes   \n",
       "4                No     Fiber optic             No  ...               No   \n",
       "\n",
       "  TechSupport StreamingTV StreamingMovies        Contract PaperlessBilling  \\\n",
       "0          No          No              No  Month-to-month              Yes   \n",
       "1          No          No              No        One year               No   \n",
       "2          No          No              No  Month-to-month              Yes   \n",
       "3         Yes          No              No        One year               No   \n",
       "4          No          No              No  Month-to-month              Yes   \n",
       "\n",
       "               PaymentMethod MonthlyCharges  TotalCharges Churn  \n",
       "0           Electronic check          29.85         29.85    No  \n",
       "1               Mailed check          56.95        1889.5    No  \n",
       "2               Mailed check          53.85        108.15   Yes  \n",
       "3  Bank transfer (automatic)          42.30       1840.75    No  \n",
       "4           Electronic check          70.70        151.65   Yes  \n",
       "\n",
       "[5 rows x 21 columns]"
      ]
     },
     "execution_count": 28,
     "metadata": {},
     "output_type": "execute_result"
    }
   ],
   "source": [
    "raw_df.head(5)"
   ]
  },
  {
   "cell_type": "code",
   "execution_count": 29,
   "id": "f949caac",
   "metadata": {},
   "outputs": [
    {
     "name": "stdout",
     "output_type": "stream",
     "text": [
      "<class 'pandas.core.frame.DataFrame'>\n",
      "RangeIndex: 7043 entries, 0 to 7042\n",
      "Data columns (total 21 columns):\n",
      " #   Column            Non-Null Count  Dtype  \n",
      "---  ------            --------------  -----  \n",
      " 0   customerID        7043 non-null   object \n",
      " 1   gender            7043 non-null   object \n",
      " 2   SeniorCitizen     7043 non-null   int64  \n",
      " 3   Partner           7043 non-null   object \n",
      " 4   Dependents        7043 non-null   object \n",
      " 5   tenure            7043 non-null   int64  \n",
      " 6   PhoneService      7043 non-null   object \n",
      " 7   MultipleLines     7043 non-null   object \n",
      " 8   InternetService   7043 non-null   object \n",
      " 9   OnlineSecurity    7043 non-null   object \n",
      " 10  OnlineBackup      7043 non-null   object \n",
      " 11  DeviceProtection  7043 non-null   object \n",
      " 12  TechSupport       7043 non-null   object \n",
      " 13  StreamingTV       7043 non-null   object \n",
      " 14  StreamingMovies   7043 non-null   object \n",
      " 15  Contract          7043 non-null   object \n",
      " 16  PaperlessBilling  7043 non-null   object \n",
      " 17  PaymentMethod     7043 non-null   object \n",
      " 18  MonthlyCharges    7043 non-null   float64\n",
      " 19  TotalCharges      7043 non-null   object \n",
      " 20  Churn             7043 non-null   object \n",
      "dtypes: float64(1), int64(2), object(18)\n",
      "memory usage: 1.1+ MB\n"
     ]
    }
   ],
   "source": [
    "raw_df.info()"
   ]
  },
  {
   "cell_type": "markdown",
   "id": "f9ead25c",
   "metadata": {},
   "source": [
    "## 2.Data Validation and Profiling"
   ]
  },
  {
   "cell_type": "markdown",
   "id": "64587d5f",
   "metadata": {},
   "source": [
    "### Check for:\n",
    "\n",
    "#### Missing values\n",
    "\n",
    "#### Duplicates\n",
    "\n",
    "#### Inconsistent types\n",
    "\n",
    "#### Unique values in categorical fields"
   ]
  },
  {
   "cell_type": "code",
   "execution_count": 30,
   "id": "43aa180d",
   "metadata": {},
   "outputs": [
    {
     "data": {
      "text/plain": [
       "customerID          0\n",
       "gender              0\n",
       "SeniorCitizen       0\n",
       "Partner             0\n",
       "Dependents          0\n",
       "tenure              0\n",
       "PhoneService        0\n",
       "MultipleLines       0\n",
       "InternetService     0\n",
       "OnlineSecurity      0\n",
       "OnlineBackup        0\n",
       "DeviceProtection    0\n",
       "TechSupport         0\n",
       "StreamingTV         0\n",
       "StreamingMovies     0\n",
       "Contract            0\n",
       "PaperlessBilling    0\n",
       "PaymentMethod       0\n",
       "MonthlyCharges      0\n",
       "TotalCharges        0\n",
       "Churn               0\n",
       "dtype: int64"
      ]
     },
     "execution_count": 30,
     "metadata": {},
     "output_type": "execute_result"
    }
   ],
   "source": [
    "raw_df.isnull().sum()"
   ]
  },
  {
   "cell_type": "markdown",
   "id": "920f15c3",
   "metadata": {},
   "source": [
    "### No missing values"
   ]
  },
  {
   "cell_type": "code",
   "execution_count": 31,
   "id": "1e917fbd",
   "metadata": {},
   "outputs": [
    {
     "data": {
      "text/plain": [
       "np.int64(0)"
      ]
     },
     "execution_count": 31,
     "metadata": {},
     "output_type": "execute_result"
    }
   ],
   "source": [
    "raw_df.duplicated().sum()"
   ]
  },
  {
   "cell_type": "markdown",
   "id": "6ab17a7f",
   "metadata": {},
   "source": [
    "### No duplicate values"
   ]
  },
  {
   "cell_type": "markdown",
   "id": "51f9f17b",
   "metadata": {},
   "source": [
    "### Value distribution in categorical features"
   ]
  },
  {
   "cell_type": "code",
   "execution_count": 32,
   "id": "8bd48fdb",
   "metadata": {},
   "outputs": [
    {
     "name": "stdout",
     "output_type": "stream",
     "text": [
      "customerID, unique values: 7043\n",
      "gender, unique values: 2\n",
      "Partner, unique values: 2\n",
      "Dependents, unique values: 2\n",
      "PhoneService, unique values: 2\n",
      "MultipleLines, unique values: 3\n",
      "InternetService, unique values: 3\n",
      "OnlineSecurity, unique values: 3\n",
      "OnlineBackup, unique values: 3\n",
      "DeviceProtection, unique values: 3\n",
      "TechSupport, unique values: 3\n",
      "StreamingTV, unique values: 3\n",
      "StreamingMovies, unique values: 3\n",
      "Contract, unique values: 3\n",
      "PaperlessBilling, unique values: 2\n",
      "PaymentMethod, unique values: 4\n",
      "TotalCharges, unique values: 6531\n",
      "Churn, unique values: 2\n"
     ]
    }
   ],
   "source": [
    "for col in raw_df.select_dtypes(include='object').columns:\n",
    "    print(f'{col}, unique values: {raw_df[col].nunique()}')"
   ]
  },
  {
   "cell_type": "markdown",
   "id": "56a46596",
   "metadata": {},
   "source": [
    "### Total Charges feature supposed to be a float data type instead of object"
   ]
  },
  {
   "cell_type": "markdown",
   "id": "1632b107",
   "metadata": {},
   "source": [
    "## 3.Data Cleaning"
   ]
  },
  {
   "cell_type": "markdown",
   "id": "72912ff5",
   "metadata": {},
   "source": [
    "### Ensure clean, consistent, structured data for downstream users.\n",
    "\n",
    "#### Handle missing values\n",
    "\n",
    "#### Convert types\n",
    "\n",
    "#### Normalize inconsistent string formats\n",
    "\n",
    "#### Drop or flag invalid rows"
   ]
  },
  {
   "cell_type": "code",
   "execution_count": 33,
   "id": "37a4a9e2",
   "metadata": {},
   "outputs": [],
   "source": [
    "clean_df = raw_df.copy()"
   ]
  },
  {
   "cell_type": "code",
   "execution_count": 34,
   "id": "a4f96c94",
   "metadata": {},
   "outputs": [],
   "source": [
    "clean_df['TotalCharges'] = pd.to_numeric(clean_df['TotalCharges'], errors='coerce')"
   ]
  },
  {
   "cell_type": "markdown",
   "id": "5e346174",
   "metadata": {},
   "source": [
    "### There are 11 missing values in Total Charges feature"
   ]
  },
  {
   "cell_type": "code",
   "execution_count": 35,
   "id": "31701dd1",
   "metadata": {},
   "outputs": [
    {
     "data": {
      "text/plain": [
       "np.int64(11)"
      ]
     },
     "execution_count": 35,
     "metadata": {},
     "output_type": "execute_result"
    }
   ],
   "source": [
    "clean_df['TotalCharges'].isnull().sum()"
   ]
  },
  {
   "cell_type": "markdown",
   "id": "7a749961",
   "metadata": {},
   "source": [
    "### Filling missing values with 0"
   ]
  },
  {
   "cell_type": "code",
   "execution_count": 36,
   "id": "24d02941",
   "metadata": {},
   "outputs": [
    {
     "name": "stderr",
     "output_type": "stream",
     "text": [
      "C:\\Users\\sekar\\AppData\\Local\\Temp\\ipykernel_5924\\2835532609.py:1: FutureWarning: A value is trying to be set on a copy of a DataFrame or Series through chained assignment using an inplace method.\n",
      "The behavior will change in pandas 3.0. This inplace method will never work because the intermediate object on which we are setting values always behaves as a copy.\n",
      "\n",
      "For example, when doing 'df[col].method(value, inplace=True)', try using 'df.method({col: value}, inplace=True)' or df[col] = df[col].method(value) instead, to perform the operation inplace on the original object.\n",
      "\n",
      "\n",
      "  clean_df['TotalCharges'].fillna(0, inplace=True)\n"
     ]
    }
   ],
   "source": [
    "clean_df['TotalCharges'].fillna(0, inplace=True)"
   ]
  },
  {
   "cell_type": "code",
   "execution_count": 37,
   "id": "753f687f",
   "metadata": {},
   "outputs": [
    {
     "data": {
      "text/plain": [
       "np.int64(0)"
      ]
     },
     "execution_count": 37,
     "metadata": {},
     "output_type": "execute_result"
    }
   ],
   "source": [
    "clean_df['TotalCharges'].isnull().sum()"
   ]
  },
  {
   "cell_type": "code",
   "execution_count": 38,
   "id": "f13c438f",
   "metadata": {},
   "outputs": [],
   "source": [
    "clean_df = clean_df.drop_duplicates()\n",
    "clean_df.to_csv('D:/GitHub/Customer Segmentation Data Pipeline/data/processed/cleaned_df.csv', index=False)"
   ]
  },
  {
   "cell_type": "markdown",
   "id": "c1c6d545",
   "metadata": {},
   "source": [
    "## 4.Feature Standardization"
   ]
  },
  {
   "cell_type": "markdown",
   "id": "e44d6220",
   "metadata": {},
   "source": [
    "### Prepare clean, encoded, and standardized features for downstream teams.\n",
    "\n",
    "#### Encode binary values\n",
    "\n",
    "#### Map categorical values\n",
    "\n",
    "#### Normalize column names"
   ]
  },
  {
   "cell_type": "code",
   "execution_count": 39,
   "id": "a847cb99",
   "metadata": {},
   "outputs": [],
   "source": [
    "processed_df = clean_df.copy()"
   ]
  },
  {
   "cell_type": "code",
   "execution_count": 48,
   "id": "5341e5c5",
   "metadata": {},
   "outputs": [],
   "source": [
    "# Remane columns\n",
    "processed_df.columns = processed_df.columns.str.strip().str.lower().str.replace(' ', '_')\n",
    "\n",
    "# Convert binary fields\n",
    "binary_map = {'Yes': 1, 'No': 0}\n",
    "processed_df['partner'] = processed_df['partner'].map(binary_map)\n",
    "processed_df['dependents'] = processed_df['dependents'].map(binary_map)\n",
    "processed_df['churn'] = processed_df['churn'].map(binary_map)"
   ]
  },
  {
   "cell_type": "code",
   "execution_count": 49,
   "id": "b4579085",
   "metadata": {},
   "outputs": [],
   "source": [
    "processed_df.to_csv('D:/GitHub/Customer Segmentation Data Pipeline/data/processed/processed_df.csv', index=False)"
   ]
  },
  {
   "cell_type": "markdown",
   "id": "a9c8e9d3",
   "metadata": {},
   "source": [
    "## 5.Data Modeling"
   ]
  },
  {
   "cell_type": "markdown",
   "id": "4992ba8d",
   "metadata": {},
   "source": [
    "#### Fact Table: fact_customer_activity\n",
    "#### Contains transactional or measurable data.\n",
    "\n",
    "#### Dimension Tables:\n",
    "#### These store attributes that describe customers or services."
   ]
  },
  {
   "cell_type": "code",
   "execution_count": 56,
   "id": "60522c3d",
   "metadata": {},
   "outputs": [],
   "source": [
    "# Fact table\n",
    "fact_df = processed_df[[\n",
    "    'customerid', 'tenure', 'monthlycharges', 'totalcharges', 'churn'\n",
    "]]\n",
    "fact_df.to_csv('D:/GitHub/Customer Segmentation Data Pipeline/data/fact_dim_tables/fact_df.csv', index=False)\n",
    "\n",
    "# Customer dimension\n",
    "dim_customer = processed_df[[\n",
    "    'customerid', 'gender', 'seniorcitizen', 'partner', 'dependents'\n",
    "]]\n",
    "dim_customer.to_csv('D:/GitHub/Customer Segmentation Data Pipeline/data/fact_dim_tables/dim_customer_df.csv', index=False)\n",
    "\n",
    "# Services dimension\n",
    "dim_services = processed_df[[\n",
    "    'customerid', 'phoneservice', 'multiplelines', 'internetservice',\n",
    "    'onlinesecurity', 'onlinebackup', 'deviceprotection', 'techsupport',\n",
    "    'streamingtv', 'streamingmovies'\n",
    "]]\n",
    "dim_services.to_csv('D:/GitHub/Customer Segmentation Data Pipeline/data/fact_dim_tables/dim_service_df.csv', index=False)\n",
    "\n",
    "# Subscription dimension\n",
    "dim_subscription = processed_df[[\n",
    "    'customerid', 'contract', 'paperlessbilling', 'paymentmethod'\n",
    "]]\n",
    "dim_subscription.to_csv('D:/GitHub/Customer Segmentation Data Pipeline/data/fact_dim_tables/dim_subscription_df.csv', index=False)"
   ]
  },
  {
   "cell_type": "markdown",
   "id": "73728ac6",
   "metadata": {},
   "source": [
    "## 6.Load to SQL DataBase"
   ]
  },
  {
   "cell_type": "code",
   "execution_count": null,
   "id": "72bdbfeb",
   "metadata": {},
   "outputs": [],
   "source": [
    "# Load DataFrames\n",
    "fact = pd.read_csv('D:/GitHub/Customer Segmentation Data Pipeline/data/fact_dim_tables/fact_df.csv')\n",
    "dim_customer = pd.read_csv('D:/GitHub/Customer Segmentation Data Pipeline/data/fact_dim_tables/dim_customer_df.csv')\n",
    "dim_services = pd.read_csv('D:/GitHub/Customer Segmentation Data Pipeline/data/fact_dim_tables/dim_service_df.csv')\n",
    "dim_subscription = pd.read_csv('D:/GitHub/Customer Segmentation Data Pipeline/data/fact_dim_tables/dim_subscription_df.csv')"
   ]
  },
  {
   "cell_type": "code",
   "execution_count": 67,
   "id": "23d31411",
   "metadata": {},
   "outputs": [],
   "source": [
    "# Connect SQLite database\n",
    "con = sqlite3.connect('D:/GitHub/Customer Segmentation Data Pipeline/database/telco_churn.db')\n",
    "cur = con.cursor()"
   ]
  },
  {
   "cell_type": "code",
   "execution_count": 68,
   "id": "6edb2356",
   "metadata": {},
   "outputs": [
    {
     "name": "stdout",
     "output_type": "stream",
     "text": [
      "✅ Data loaded into telco_churn.db successfully.\n"
     ]
    }
   ],
   "source": [
    "# Write tables to SQLite\n",
    "fact.to_sql('fact_table', con, if_exists='replace', index=False)\n",
    "dim_customer.to_sql('dim_customer_table', con, if_exists='replace', index=False)\n",
    "dim_services.to_sql('dim_services_table', con, if_exists='replace', index=False)\n",
    "dim_subscription.to_sql('dim_subscription_table', con, if_exists='replace', index=False)\n",
    "con.commit()\n",
    "\n",
    "print(\"✅ Data loaded into telco_churn.db successfully.\")"
   ]
  },
  {
   "cell_type": "markdown",
   "id": "0d03a0ee",
   "metadata": {},
   "source": [
    "### Query"
   ]
  },
  {
   "cell_type": "code",
   "execution_count": 69,
   "id": "5205ca5f",
   "metadata": {},
   "outputs": [
    {
     "name": "stdout",
     "output_type": "stream",
     "text": [
      "('7590-VHVEG', 1, 29.85, 29.85, 0)\n",
      "('5575-GNVDE', 34, 56.95, 1889.5, 0)\n",
      "('3668-QPYBK', 2, 53.85, 108.15, 1)\n",
      "('7795-CFOCW', 45, 42.3, 1840.75, 0)\n",
      "('9237-HQITU', 2, 70.7, 151.65, 1)\n"
     ]
    }
   ],
   "source": [
    "cur.execute('''\n",
    "SELECT * FROM fact_table LIMIT 5\n",
    "            ''')\n",
    "rows = cur.fetchall()\n",
    "con.close()\n",
    "\n",
    "for row in rows:\n",
    "    print(row)"
   ]
  }
 ],
 "metadata": {
  "kernelspec": {
   "display_name": ".venv",
   "language": "python",
   "name": "python3"
  },
  "language_info": {
   "codemirror_mode": {
    "name": "ipython",
    "version": 3
   },
   "file_extension": ".py",
   "mimetype": "text/x-python",
   "name": "python",
   "nbconvert_exporter": "python",
   "pygments_lexer": "ipython3",
   "version": "3.13.5"
  }
 },
 "nbformat": 4,
 "nbformat_minor": 5
}
